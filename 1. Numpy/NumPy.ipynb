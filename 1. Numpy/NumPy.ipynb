{
 "cells": [
  {
   "cell_type": "markdown",
   "id": "a87472a4",
   "metadata": {},
   "source": [
    "## NumPy\n",
    "1. Numpy array is of two i.e vector and metrices.\n",
    "2. Vector are the 1-D array where matrices are the 2-D array"
   ]
  },
  {
   "cell_type": "code",
   "execution_count": 1,
   "id": "7304d3a9",
   "metadata": {},
   "outputs": [],
   "source": [
    "import numpy as np"
   ]
  },
  {
   "cell_type": "markdown",
   "id": "de0c9ace",
   "metadata": {},
   "source": [
    "## 1-D Array or Vector"
   ]
  },
  {
   "cell_type": "code",
   "execution_count": 2,
   "id": "9dd3426e",
   "metadata": {},
   "outputs": [
    {
     "data": {
      "text/plain": [
       "array([1, 2, 3])"
      ]
     },
     "execution_count": 2,
     "metadata": {},
     "output_type": "execute_result"
    }
   ],
   "source": [
    "l=[1,2,3]\n",
    "np.array(l)"
   ]
  },
  {
   "cell_type": "markdown",
   "id": "cf5e9909",
   "metadata": {},
   "source": [
    "## 2-D Array or Matrices"
   ]
  },
  {
   "cell_type": "code",
   "execution_count": 3,
   "id": "50463a14",
   "metadata": {},
   "outputs": [
    {
     "data": {
      "text/plain": [
       "array([[1, 2, 3],\n",
       "       [4, 5, 6]])"
      ]
     },
     "execution_count": 3,
     "metadata": {},
     "output_type": "execute_result"
    }
   ],
   "source": [
    "l=[[1,2,3],[4,5,6]]\n",
    "np.array(l)"
   ]
  },
  {
   "cell_type": "markdown",
   "id": "83e17c8d",
   "metadata": {},
   "source": [
    "## np.arange()\n",
    "np.arange() is a function in the NumPy library that creates an array of evenly spaced values within a given range. The function takes three arguments: start, stop, and step. The resulting array includes the start value and goes up to, but does not include, the stop value, and increments by the step value. For example, np.arange(0, 10, 2) would create an array of [0, 2, 4, 6, 8]."
   ]
  },
  {
   "cell_type": "code",
   "execution_count": 4,
   "id": "4a457b15",
   "metadata": {},
   "outputs": [
    {
     "data": {
      "text/plain": [
       "array([ 0,  1,  2,  3,  4,  5,  6,  7,  8,  9, 10])"
      ]
     },
     "execution_count": 4,
     "metadata": {},
     "output_type": "execute_result"
    }
   ],
   "source": [
    "np.arange(0,11)"
   ]
  },
  {
   "cell_type": "markdown",
   "id": "1ece2ba0",
   "metadata": {},
   "source": [
    "## np.linspace()\n",
    "np.linspace() is a function in the NumPy library that creates an array of evenly spaced values over a specified interval. The function takes three arguments: start, stop and num. The resulting array will have num evenly spaced samples, calculated over the interval [start, stop]. The endpoint of the interval can optionally be included or excluded. For example, np.linspace(0, 10, 5) would create an array of [0.0, 2.5, 5.0, 7.5, 10.0]."
   ]
  },
  {
   "cell_type": "code",
   "execution_count": 5,
   "id": "08f3619b",
   "metadata": {},
   "outputs": [
    {
     "data": {
      "text/plain": [
       "array([ 0. ,  2.5,  5. ,  7.5, 10. ])"
      ]
     },
     "execution_count": 5,
     "metadata": {},
     "output_type": "execute_result"
    }
   ],
   "source": [
    "np.linspace(0,10,5)"
   ]
  },
  {
   "cell_type": "markdown",
   "id": "f713ebef",
   "metadata": {},
   "source": [
    "In the np.linspace() function, the endpoint of the interval is always included by default. However, if you want to exclude the endpoint, you can use the endpoint parameter and set it to False."
   ]
  },
  {
   "cell_type": "code",
   "execution_count": 6,
   "id": "8f5c3377",
   "metadata": {},
   "outputs": [
    {
     "data": {
      "text/plain": [
       "array([0., 2., 4., 6., 8.])"
      ]
     },
     "execution_count": 6,
     "metadata": {},
     "output_type": "execute_result"
    }
   ],
   "source": [
    "np.linspace(0,10,5,endpoint=False)"
   ]
  },
  {
   "cell_type": "markdown",
   "id": "75ae8607",
   "metadata": {},
   "source": [
    "You can also use np.linspace(start,stop,num, endpoint=False, retstep=True) to return the step size as well."
   ]
  },
  {
   "cell_type": "code",
   "execution_count": 7,
   "id": "982f92b3",
   "metadata": {},
   "outputs": [
    {
     "data": {
      "text/plain": [
       "(array([ 0. ,  2.5,  5. ,  7.5, 10. ]), 2.5)"
      ]
     },
     "execution_count": 7,
     "metadata": {},
     "output_type": "execute_result"
    }
   ],
   "source": [
    "np.linspace(0,10,5,retstep=True)"
   ]
  },
  {
   "cell_type": "markdown",
   "id": "56a18e1e",
   "metadata": {},
   "source": [
    "## np.random.rand()\n",
    "np.random.rand() is a function from the NumPy library that generates random numbers from a uniform distribution. The function generates random numbers from a continuous interval between 0 and 1."
   ]
  },
  {
   "cell_type": "code",
   "execution_count": 8,
   "id": "05e0bccb",
   "metadata": {},
   "outputs": [
    {
     "data": {
      "text/plain": [
       "array([[0.94990216, 0.84081077, 0.6121987 , 0.95608786, 0.25021745],\n",
       "       [0.41762226, 0.35953059, 0.93652498, 0.48933003, 0.72243962]])"
      ]
     },
     "execution_count": 8,
     "metadata": {},
     "output_type": "execute_result"
    }
   ],
   "source": [
    "np.random.rand(2,5)"
   ]
  },
  {
   "cell_type": "markdown",
   "id": "0f5cb9c8",
   "metadata": {},
   "source": [
    "## np.random.randn()\n",
    "np.random.randn() is a function from the NumPy library that generates random numbers from a standard normal distribution, also known as a Gaussian distribution. The standard normal distribution is a normal distribution with a mean of 0 and a standard deviation of 1."
   ]
  },
  {
   "cell_type": "code",
   "execution_count": 9,
   "id": "e2bd3cb4",
   "metadata": {},
   "outputs": [
    {
     "data": {
      "text/plain": [
       "array([[ 1.70511762, -0.92431324]])"
      ]
     },
     "execution_count": 9,
     "metadata": {},
     "output_type": "execute_result"
    }
   ],
   "source": [
    "np.random.randn(1,2)"
   ]
  },
  {
   "cell_type": "markdown",
   "id": "4455fa67",
   "metadata": {},
   "source": [
    "## np.random.randint()\n",
    "np.random.randint() is a function from the NumPy library that generates random integers from a given range. The function takes in three arguments:\n",
    "\n",
    "low: The lower bound of the range (inclusive).\n",
    "high: The upper bound of the range (exclusive).\n",
    "size: The shape of the output array. It can be an integer or a tuple of integers."
   ]
  },
  {
   "cell_type": "code",
   "execution_count": 10,
   "id": "9cccdac7",
   "metadata": {},
   "outputs": [
    {
     "name": "stdout",
     "output_type": "stream",
     "text": [
      "25\n",
      "[38 34]\n",
      "[[22 39]\n",
      " [18 12]]\n"
     ]
    }
   ],
   "source": [
    "print(np.random.randint(0,50))\n",
    "print(np.random.randint(0,50,size=2))\n",
    "print(np.random.randint(0,50,size=(2,2)))"
   ]
  },
  {
   "cell_type": "markdown",
   "id": "75337fed",
   "metadata": {},
   "source": [
    "## Numpy Array Operation"
   ]
  },
  {
   "cell_type": "code",
   "execution_count": 11,
   "id": "fa895047",
   "metadata": {},
   "outputs": [],
   "source": [
    "arr=np.array([1,2,3,4,5,6,7,8,9,10])"
   ]
  },
  {
   "cell_type": "code",
   "execution_count": 12,
   "id": "abae5ffb",
   "metadata": {},
   "outputs": [
    {
     "data": {
      "text/plain": [
       "array([[ 1,  2,  3,  4,  5],\n",
       "       [ 6,  7,  8,  9, 10]])"
      ]
     },
     "execution_count": 12,
     "metadata": {},
     "output_type": "execute_result"
    }
   ],
   "source": [
    "arr.reshape(2,5)"
   ]
  },
  {
   "cell_type": "code",
   "execution_count": 13,
   "id": "f4b9fcb1",
   "metadata": {},
   "outputs": [
    {
     "data": {
      "text/plain": [
       "10"
      ]
     },
     "execution_count": 13,
     "metadata": {},
     "output_type": "execute_result"
    }
   ],
   "source": [
    "arr.max()"
   ]
  },
  {
   "cell_type": "code",
   "execution_count": 14,
   "id": "6e2880a8",
   "metadata": {},
   "outputs": [
    {
     "data": {
      "text/plain": [
       "1"
      ]
     },
     "execution_count": 14,
     "metadata": {},
     "output_type": "execute_result"
    }
   ],
   "source": [
    "arr.min()"
   ]
  },
  {
   "cell_type": "code",
   "execution_count": 15,
   "id": "268fff0d",
   "metadata": {},
   "outputs": [
    {
     "data": {
      "text/plain": [
       "9"
      ]
     },
     "execution_count": 15,
     "metadata": {},
     "output_type": "execute_result"
    }
   ],
   "source": [
    "# Max value index\n",
    "arr.argmax()"
   ]
  },
  {
   "cell_type": "code",
   "execution_count": 16,
   "id": "a6ab47ea",
   "metadata": {},
   "outputs": [
    {
     "data": {
      "text/plain": [
       "0"
      ]
     },
     "execution_count": 16,
     "metadata": {},
     "output_type": "execute_result"
    }
   ],
   "source": [
    "# Min Value index\n",
    "arr.argmin()"
   ]
  },
  {
   "cell_type": "code",
   "execution_count": 17,
   "id": "7c7f0afd",
   "metadata": {},
   "outputs": [
    {
     "data": {
      "text/plain": [
       "(10,)"
      ]
     },
     "execution_count": 17,
     "metadata": {},
     "output_type": "execute_result"
    }
   ],
   "source": [
    "arr.shape"
   ]
  },
  {
   "cell_type": "code",
   "execution_count": 18,
   "id": "a0ddf605",
   "metadata": {},
   "outputs": [
    {
     "data": {
      "text/plain": [
       "dtype('int32')"
      ]
     },
     "execution_count": 18,
     "metadata": {},
     "output_type": "execute_result"
    }
   ],
   "source": [
    "arr.dtype"
   ]
  },
  {
   "cell_type": "code",
   "execution_count": 19,
   "id": "97f99c41",
   "metadata": {},
   "outputs": [
    {
     "data": {
      "text/plain": [
       "array([0, 1, 1, 0, 1, 0, 6, 1, 2, 6])"
      ]
     },
     "execution_count": 19,
     "metadata": {},
     "output_type": "execute_result"
    }
   ],
   "source": [
    "np.random.randint(arr)"
   ]
  },
  {
   "cell_type": "code",
   "execution_count": 20,
   "id": "668a5f5a",
   "metadata": {},
   "outputs": [
    {
     "data": {
      "text/plain": [
       "array([ 1,  2,  3,  4,  5,  6,  7,  8,  9, 10])"
      ]
     },
     "execution_count": 20,
     "metadata": {},
     "output_type": "execute_result"
    }
   ],
   "source": [
    "arr"
   ]
  },
  {
   "cell_type": "markdown",
   "id": "c66d526d",
   "metadata": {},
   "source": [
    "## Indexing and Slicing"
   ]
  },
  {
   "cell_type": "code",
   "execution_count": 21,
   "id": "2fe78a88",
   "metadata": {},
   "outputs": [],
   "source": [
    "arr=np.array([4,4,5,1,2,3,8,10])"
   ]
  },
  {
   "cell_type": "code",
   "execution_count": 22,
   "id": "757080ba",
   "metadata": {},
   "outputs": [],
   "source": [
    "arr_2d=np.array([[10,11,15],[20,25,28],[32,45,67]])"
   ]
  },
  {
   "cell_type": "code",
   "execution_count": 23,
   "id": "75e988d6",
   "metadata": {},
   "outputs": [
    {
     "name": "stdout",
     "output_type": "stream",
     "text": [
      "[[10 11]\n",
      " [20 25]]\n"
     ]
    }
   ],
   "source": [
    "slice_arr_2d=arr_2d[0:2,0:2]\n",
    "print(slice_arr_2d)"
   ]
  },
  {
   "cell_type": "code",
   "execution_count": 24,
   "id": "83cbe248",
   "metadata": {},
   "outputs": [],
   "source": [
    "slice_arr_2d[0:2,0:2]=100"
   ]
  },
  {
   "cell_type": "code",
   "execution_count": 25,
   "id": "fe35ca07",
   "metadata": {},
   "outputs": [
    {
     "data": {
      "text/plain": [
       "array([[100, 100],\n",
       "       [100, 100]])"
      ]
     },
     "execution_count": 25,
     "metadata": {},
     "output_type": "execute_result"
    }
   ],
   "source": [
    "slice_arr_2d"
   ]
  },
  {
   "cell_type": "code",
   "execution_count": 26,
   "id": "1fc0cee4",
   "metadata": {},
   "outputs": [
    {
     "data": {
      "text/plain": [
       "array([[100, 100,  15],\n",
       "       [100, 100,  28],\n",
       "       [ 32,  45,  67]])"
      ]
     },
     "execution_count": 26,
     "metadata": {},
     "output_type": "execute_result"
    }
   ],
   "source": [
    "arr_2d"
   ]
  },
  {
   "cell_type": "code",
   "execution_count": 27,
   "id": "98eea731",
   "metadata": {},
   "outputs": [
    {
     "data": {
      "text/plain": [
       "array([[100, 100,  28],\n",
       "       [ 32,  45,  67]])"
      ]
     },
     "execution_count": 27,
     "metadata": {},
     "output_type": "execute_result"
    }
   ],
   "source": [
    "arr_2d[1:,0:]"
   ]
  },
  {
   "cell_type": "code",
   "execution_count": 28,
   "id": "d23be8c5",
   "metadata": {},
   "outputs": [
    {
     "data": {
      "text/plain": [
       "array([[ True,  True, False],\n",
       "       [ True,  True, False],\n",
       "       [False, False, False]])"
      ]
     },
     "execution_count": 28,
     "metadata": {},
     "output_type": "execute_result"
    }
   ],
   "source": [
    "arr_2d>80"
   ]
  },
  {
   "cell_type": "code",
   "execution_count": 29,
   "id": "142ab892",
   "metadata": {},
   "outputs": [],
   "source": [
    "arr_2d=np.arange(50).reshape(5,10)"
   ]
  },
  {
   "cell_type": "code",
   "execution_count": 30,
   "id": "18080b64",
   "metadata": {},
   "outputs": [
    {
     "data": {
      "text/plain": [
       "array([[ 0,  1,  2,  3,  4,  5,  6,  7,  8,  9],\n",
       "       [10, 11, 12, 13, 14, 15, 16, 17, 18, 19],\n",
       "       [20, 21, 22, 23, 24, 25, 26, 27, 28, 29],\n",
       "       [30, 31, 32, 33, 34, 35, 36, 37, 38, 39],\n",
       "       [40, 41, 42, 43, 44, 45, 46, 47, 48, 49]])"
      ]
     },
     "execution_count": 30,
     "metadata": {},
     "output_type": "execute_result"
    }
   ],
   "source": [
    "arr_2d"
   ]
  },
  {
   "cell_type": "code",
   "execution_count": 31,
   "id": "748696bf",
   "metadata": {},
   "outputs": [
    {
     "data": {
      "text/plain": [
       "array([[13, 14],\n",
       "       [23, 24]])"
      ]
     },
     "execution_count": 31,
     "metadata": {},
     "output_type": "execute_result"
    }
   ],
   "source": [
    "arr_2d[1:3,3:5]"
   ]
  },
  {
   "cell_type": "code",
   "execution_count": 32,
   "id": "57043582",
   "metadata": {},
   "outputs": [
    {
     "data": {
      "text/plain": [
       "array([11, 12, 13, 14, 15, 16, 17, 18, 19, 20, 21, 22, 23, 24, 25, 26, 27,\n",
       "       28, 29, 30, 31, 32, 33, 34, 35, 36, 37, 38, 39, 40, 41, 42, 43, 44,\n",
       "       45, 46, 47, 48, 49])"
      ]
     },
     "execution_count": 32,
     "metadata": {},
     "output_type": "execute_result"
    }
   ],
   "source": [
    "arr_2d[arr_2d>10]"
   ]
  },
  {
   "cell_type": "code",
   "execution_count": 33,
   "id": "41511728",
   "metadata": {},
   "outputs": [
    {
     "data": {
      "text/plain": [
       "array([[False, False, False, False, False, False, False, False, False,\n",
       "        False],\n",
       "       [False, False, False, False, False, False, False, False, False,\n",
       "        False],\n",
       "       [False,  True,  True,  True,  True,  True,  True,  True,  True,\n",
       "         True],\n",
       "       [ True,  True,  True,  True,  True,  True,  True,  True,  True,\n",
       "         True],\n",
       "       [ True,  True,  True,  True,  True,  True,  True,  True,  True,\n",
       "         True]])"
      ]
     },
     "execution_count": 33,
     "metadata": {},
     "output_type": "execute_result"
    }
   ],
   "source": [
    "arr_2d>20"
   ]
  },
  {
   "cell_type": "markdown",
   "id": "352dd991",
   "metadata": {},
   "source": [
    "## NumPy Operations\n",
    " ### .Array with Array\n",
    " ### .Array with Scalars\n",
    " ### .Universal Array Functions"
   ]
  },
  {
   "cell_type": "code",
   "execution_count": 34,
   "id": "c1a81b59",
   "metadata": {},
   "outputs": [
    {
     "data": {
      "text/plain": [
       "array([ 0,  1,  2,  3,  4,  5,  6,  7,  8,  9, 10])"
      ]
     },
     "execution_count": 34,
     "metadata": {},
     "output_type": "execute_result"
    }
   ],
   "source": [
    "arr=np.arange(0,11)\n",
    "arr"
   ]
  },
  {
   "cell_type": "code",
   "execution_count": 35,
   "id": "43f738b8",
   "metadata": {},
   "outputs": [
    {
     "data": {
      "text/plain": [
       "array([ 0,  2,  4,  6,  8, 10, 12, 14, 16, 18, 20])"
      ]
     },
     "execution_count": 35,
     "metadata": {},
     "output_type": "execute_result"
    }
   ],
   "source": [
    "arr+arr"
   ]
  },
  {
   "cell_type": "code",
   "execution_count": 36,
   "id": "d09b34c0",
   "metadata": {},
   "outputs": [
    {
     "data": {
      "text/plain": [
       "array([0, 0, 0, 0, 0, 0, 0, 0, 0, 0, 0])"
      ]
     },
     "execution_count": 36,
     "metadata": {},
     "output_type": "execute_result"
    }
   ],
   "source": [
    "arr-arr"
   ]
  },
  {
   "cell_type": "code",
   "execution_count": 37,
   "id": "02796da8",
   "metadata": {},
   "outputs": [
    {
     "data": {
      "text/plain": [
       "array([  0,   1,   4,   9,  16,  25,  36,  49,  64,  81, 100])"
      ]
     },
     "execution_count": 37,
     "metadata": {},
     "output_type": "execute_result"
    }
   ],
   "source": [
    "arr*arr"
   ]
  },
  {
   "cell_type": "code",
   "execution_count": 38,
   "id": "49b8f7d8",
   "metadata": {},
   "outputs": [
    {
     "name": "stderr",
     "output_type": "stream",
     "text": [
      "C:\\Users\\Himanshu Dhawan\\AppData\\Local\\Temp\\ipykernel_7644\\1862401812.py:1: RuntimeWarning: invalid value encountered in divide\n",
      "  arr/arr\n"
     ]
    },
    {
     "data": {
      "text/plain": [
       "array([nan,  1.,  1.,  1.,  1.,  1.,  1.,  1.,  1.,  1.,  1.])"
      ]
     },
     "execution_count": 38,
     "metadata": {},
     "output_type": "execute_result"
    }
   ],
   "source": [
    "arr/arr"
   ]
  },
  {
   "cell_type": "code",
   "execution_count": 39,
   "id": "5d5a0035",
   "metadata": {},
   "outputs": [
    {
     "data": {
      "text/plain": [
       "10"
      ]
     },
     "execution_count": 39,
     "metadata": {},
     "output_type": "execute_result"
    }
   ],
   "source": [
    "arr.max()"
   ]
  },
  {
   "cell_type": "code",
   "execution_count": 40,
   "id": "51f962de",
   "metadata": {},
   "outputs": [
    {
     "data": {
      "text/plain": [
       "0"
      ]
     },
     "execution_count": 40,
     "metadata": {},
     "output_type": "execute_result"
    }
   ],
   "source": [
    "arr.min()"
   ]
  },
  {
   "cell_type": "code",
   "execution_count": 41,
   "id": "589517ef",
   "metadata": {},
   "outputs": [
    {
     "data": {
      "text/plain": [
       "array([100, 101, 102, 103, 104, 105, 106, 107, 108, 109, 110])"
      ]
     },
     "execution_count": 41,
     "metadata": {},
     "output_type": "execute_result"
    }
   ],
   "source": [
    "arr+100"
   ]
  },
  {
   "cell_type": "code",
   "execution_count": 42,
   "id": "e50b931e",
   "metadata": {},
   "outputs": [
    {
     "data": {
      "text/plain": [
       "array([   0,  100,  200,  300,  400,  500,  600,  700,  800,  900, 1000])"
      ]
     },
     "execution_count": 42,
     "metadata": {},
     "output_type": "execute_result"
    }
   ],
   "source": [
    "arr*100"
   ]
  }
 ],
 "metadata": {
  "kernelspec": {
   "display_name": "Python 3 (ipykernel)",
   "language": "python",
   "name": "python3"
  },
  "language_info": {
   "codemirror_mode": {
    "name": "ipython",
    "version": 3
   },
   "file_extension": ".py",
   "mimetype": "text/x-python",
   "name": "python",
   "nbconvert_exporter": "python",
   "pygments_lexer": "ipython3",
   "version": "3.11.3"
  }
 },
 "nbformat": 4,
 "nbformat_minor": 5
}
