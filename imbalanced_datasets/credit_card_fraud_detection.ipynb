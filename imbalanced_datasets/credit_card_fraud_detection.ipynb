{
 "cells": [
  {
   "cell_type": "markdown",
   "id": "b06a671d",
   "metadata": {},
   "source": [
    "## Credit Crad Fraud Detection"
   ]
  },
  {
   "cell_type": "markdown",
   "id": "e94bf78b",
   "metadata": {},
   "source": [
    "The dataset contains transactions made by credit cards in September 2013 by European cardholders. This dataset presents transactions that occurred in two days, where we have 492 frauds out of 284,807 transactions. The dataset is highly unbalanced, the positive class (frauds) account for 0.172% of all transactions."
   ]
  },
  {
   "cell_type": "code",
   "execution_count": 2,
   "id": "6672246a",
   "metadata": {},
   "outputs": [],
   "source": [
    "import pandas as pd\n",
    "import warnings\n",
    "\n",
    "warnings.filterwarnings(\"ignore\")"
   ]
  },
  {
   "cell_type": "markdown",
   "id": "a9942d2a",
   "metadata": {},
   "source": [
    "#### Load Dataset"
   ]
  },
  {
   "cell_type": "code",
   "execution_count": 3,
   "id": "702b01fc",
   "metadata": {},
   "outputs": [],
   "source": [
    "df=pd.read_csv('creditcard.csv')"
   ]
  },
  {
   "cell_type": "code",
   "execution_count": 4,
   "id": "d18dbe42",
   "metadata": {},
   "outputs": [
    {
     "data": {
      "text/html": [
       "<div>\n",
       "<style scoped>\n",
       "    .dataframe tbody tr th:only-of-type {\n",
       "        vertical-align: middle;\n",
       "    }\n",
       "\n",
       "    .dataframe tbody tr th {\n",
       "        vertical-align: top;\n",
       "    }\n",
       "\n",
       "    .dataframe thead th {\n",
       "        text-align: right;\n",
       "    }\n",
       "</style>\n",
       "<table border=\"1\" class=\"dataframe\">\n",
       "  <thead>\n",
       "    <tr style=\"text-align: right;\">\n",
       "      <th></th>\n",
       "      <th>Time</th>\n",
       "      <th>V1</th>\n",
       "      <th>V2</th>\n",
       "      <th>V3</th>\n",
       "      <th>V4</th>\n",
       "      <th>V5</th>\n",
       "      <th>V6</th>\n",
       "      <th>V7</th>\n",
       "      <th>V8</th>\n",
       "      <th>V9</th>\n",
       "      <th>...</th>\n",
       "      <th>V21</th>\n",
       "      <th>V22</th>\n",
       "      <th>V23</th>\n",
       "      <th>V24</th>\n",
       "      <th>V25</th>\n",
       "      <th>V26</th>\n",
       "      <th>V27</th>\n",
       "      <th>V28</th>\n",
       "      <th>Amount</th>\n",
       "      <th>Class</th>\n",
       "    </tr>\n",
       "  </thead>\n",
       "  <tbody>\n",
       "    <tr>\n",
       "      <th>0</th>\n",
       "      <td>0.0</td>\n",
       "      <td>-1.359807</td>\n",
       "      <td>-0.072781</td>\n",
       "      <td>2.536347</td>\n",
       "      <td>1.378155</td>\n",
       "      <td>-0.338321</td>\n",
       "      <td>0.462388</td>\n",
       "      <td>0.239599</td>\n",
       "      <td>0.098698</td>\n",
       "      <td>0.363787</td>\n",
       "      <td>...</td>\n",
       "      <td>-0.018307</td>\n",
       "      <td>0.277838</td>\n",
       "      <td>-0.110474</td>\n",
       "      <td>0.066928</td>\n",
       "      <td>0.128539</td>\n",
       "      <td>-0.189115</td>\n",
       "      <td>0.133558</td>\n",
       "      <td>-0.021053</td>\n",
       "      <td>149.62</td>\n",
       "      <td>0</td>\n",
       "    </tr>\n",
       "    <tr>\n",
       "      <th>1</th>\n",
       "      <td>0.0</td>\n",
       "      <td>1.191857</td>\n",
       "      <td>0.266151</td>\n",
       "      <td>0.166480</td>\n",
       "      <td>0.448154</td>\n",
       "      <td>0.060018</td>\n",
       "      <td>-0.082361</td>\n",
       "      <td>-0.078803</td>\n",
       "      <td>0.085102</td>\n",
       "      <td>-0.255425</td>\n",
       "      <td>...</td>\n",
       "      <td>-0.225775</td>\n",
       "      <td>-0.638672</td>\n",
       "      <td>0.101288</td>\n",
       "      <td>-0.339846</td>\n",
       "      <td>0.167170</td>\n",
       "      <td>0.125895</td>\n",
       "      <td>-0.008983</td>\n",
       "      <td>0.014724</td>\n",
       "      <td>2.69</td>\n",
       "      <td>0</td>\n",
       "    </tr>\n",
       "    <tr>\n",
       "      <th>2</th>\n",
       "      <td>1.0</td>\n",
       "      <td>-1.358354</td>\n",
       "      <td>-1.340163</td>\n",
       "      <td>1.773209</td>\n",
       "      <td>0.379780</td>\n",
       "      <td>-0.503198</td>\n",
       "      <td>1.800499</td>\n",
       "      <td>0.791461</td>\n",
       "      <td>0.247676</td>\n",
       "      <td>-1.514654</td>\n",
       "      <td>...</td>\n",
       "      <td>0.247998</td>\n",
       "      <td>0.771679</td>\n",
       "      <td>0.909412</td>\n",
       "      <td>-0.689281</td>\n",
       "      <td>-0.327642</td>\n",
       "      <td>-0.139097</td>\n",
       "      <td>-0.055353</td>\n",
       "      <td>-0.059752</td>\n",
       "      <td>378.66</td>\n",
       "      <td>0</td>\n",
       "    </tr>\n",
       "    <tr>\n",
       "      <th>3</th>\n",
       "      <td>1.0</td>\n",
       "      <td>-0.966272</td>\n",
       "      <td>-0.185226</td>\n",
       "      <td>1.792993</td>\n",
       "      <td>-0.863291</td>\n",
       "      <td>-0.010309</td>\n",
       "      <td>1.247203</td>\n",
       "      <td>0.237609</td>\n",
       "      <td>0.377436</td>\n",
       "      <td>-1.387024</td>\n",
       "      <td>...</td>\n",
       "      <td>-0.108300</td>\n",
       "      <td>0.005274</td>\n",
       "      <td>-0.190321</td>\n",
       "      <td>-1.175575</td>\n",
       "      <td>0.647376</td>\n",
       "      <td>-0.221929</td>\n",
       "      <td>0.062723</td>\n",
       "      <td>0.061458</td>\n",
       "      <td>123.50</td>\n",
       "      <td>0</td>\n",
       "    </tr>\n",
       "    <tr>\n",
       "      <th>4</th>\n",
       "      <td>2.0</td>\n",
       "      <td>-1.158233</td>\n",
       "      <td>0.877737</td>\n",
       "      <td>1.548718</td>\n",
       "      <td>0.403034</td>\n",
       "      <td>-0.407193</td>\n",
       "      <td>0.095921</td>\n",
       "      <td>0.592941</td>\n",
       "      <td>-0.270533</td>\n",
       "      <td>0.817739</td>\n",
       "      <td>...</td>\n",
       "      <td>-0.009431</td>\n",
       "      <td>0.798278</td>\n",
       "      <td>-0.137458</td>\n",
       "      <td>0.141267</td>\n",
       "      <td>-0.206010</td>\n",
       "      <td>0.502292</td>\n",
       "      <td>0.219422</td>\n",
       "      <td>0.215153</td>\n",
       "      <td>69.99</td>\n",
       "      <td>0</td>\n",
       "    </tr>\n",
       "  </tbody>\n",
       "</table>\n",
       "<p>5 rows × 31 columns</p>\n",
       "</div>"
      ],
      "text/plain": [
       "   Time        V1        V2        V3        V4        V5        V6        V7   \n",
       "0   0.0 -1.359807 -0.072781  2.536347  1.378155 -0.338321  0.462388  0.239599  \\\n",
       "1   0.0  1.191857  0.266151  0.166480  0.448154  0.060018 -0.082361 -0.078803   \n",
       "2   1.0 -1.358354 -1.340163  1.773209  0.379780 -0.503198  1.800499  0.791461   \n",
       "3   1.0 -0.966272 -0.185226  1.792993 -0.863291 -0.010309  1.247203  0.237609   \n",
       "4   2.0 -1.158233  0.877737  1.548718  0.403034 -0.407193  0.095921  0.592941   \n",
       "\n",
       "         V8        V9  ...       V21       V22       V23       V24       V25   \n",
       "0  0.098698  0.363787  ... -0.018307  0.277838 -0.110474  0.066928  0.128539  \\\n",
       "1  0.085102 -0.255425  ... -0.225775 -0.638672  0.101288 -0.339846  0.167170   \n",
       "2  0.247676 -1.514654  ...  0.247998  0.771679  0.909412 -0.689281 -0.327642   \n",
       "3  0.377436 -1.387024  ... -0.108300  0.005274 -0.190321 -1.175575  0.647376   \n",
       "4 -0.270533  0.817739  ... -0.009431  0.798278 -0.137458  0.141267 -0.206010   \n",
       "\n",
       "        V26       V27       V28  Amount  Class  \n",
       "0 -0.189115  0.133558 -0.021053  149.62      0  \n",
       "1  0.125895 -0.008983  0.014724    2.69      0  \n",
       "2 -0.139097 -0.055353 -0.059752  378.66      0  \n",
       "3 -0.221929  0.062723  0.061458  123.50      0  \n",
       "4  0.502292  0.219422  0.215153   69.99      0  \n",
       "\n",
       "[5 rows x 31 columns]"
      ]
     },
     "execution_count": 4,
     "metadata": {},
     "output_type": "execute_result"
    }
   ],
   "source": [
    "df.head()"
   ]
  },
  {
   "cell_type": "markdown",
   "id": "7fb37c3f",
   "metadata": {},
   "source": [
    "#### Imbalanced Data"
   ]
  },
  {
   "cell_type": "code",
   "execution_count": 5,
   "id": "4ee00c91",
   "metadata": {},
   "outputs": [
    {
     "data": {
      "text/plain": [
       "Class\n",
       "0    284315\n",
       "1       492\n",
       "Name: count, dtype: int64"
      ]
     },
     "execution_count": 5,
     "metadata": {},
     "output_type": "execute_result"
    }
   ],
   "source": [
    "df['Class'].value_counts()"
   ]
  },
  {
   "cell_type": "code",
   "execution_count": 6,
   "id": "0186952a",
   "metadata": {},
   "outputs": [
    {
     "name": "stdout",
     "output_type": "stream",
     "text": [
      "<class 'pandas.core.frame.DataFrame'>\n",
      "RangeIndex: 284807 entries, 0 to 284806\n",
      "Data columns (total 31 columns):\n",
      " #   Column  Non-Null Count   Dtype  \n",
      "---  ------  --------------   -----  \n",
      " 0   Time    284807 non-null  float64\n",
      " 1   V1      284807 non-null  float64\n",
      " 2   V2      284807 non-null  float64\n",
      " 3   V3      284807 non-null  float64\n",
      " 4   V4      284807 non-null  float64\n",
      " 5   V5      284807 non-null  float64\n",
      " 6   V6      284807 non-null  float64\n",
      " 7   V7      284807 non-null  float64\n",
      " 8   V8      284807 non-null  float64\n",
      " 9   V9      284807 non-null  float64\n",
      " 10  V10     284807 non-null  float64\n",
      " 11  V11     284807 non-null  float64\n",
      " 12  V12     284807 non-null  float64\n",
      " 13  V13     284807 non-null  float64\n",
      " 14  V14     284807 non-null  float64\n",
      " 15  V15     284807 non-null  float64\n",
      " 16  V16     284807 non-null  float64\n",
      " 17  V17     284807 non-null  float64\n",
      " 18  V18     284807 non-null  float64\n",
      " 19  V19     284807 non-null  float64\n",
      " 20  V20     284807 non-null  float64\n",
      " 21  V21     284807 non-null  float64\n",
      " 22  V22     284807 non-null  float64\n",
      " 23  V23     284807 non-null  float64\n",
      " 24  V24     284807 non-null  float64\n",
      " 25  V25     284807 non-null  float64\n",
      " 26  V26     284807 non-null  float64\n",
      " 27  V27     284807 non-null  float64\n",
      " 28  V28     284807 non-null  float64\n",
      " 29  Amount  284807 non-null  float64\n",
      " 30  Class   284807 non-null  int64  \n",
      "dtypes: float64(30), int64(1)\n",
      "memory usage: 67.4 MB\n"
     ]
    }
   ],
   "source": [
    "df.info()"
   ]
  },
  {
   "cell_type": "markdown",
   "id": "ac3da109",
   "metadata": {},
   "source": [
    "#### Drop Time Column"
   ]
  },
  {
   "cell_type": "code",
   "execution_count": 7,
   "id": "0e0785c0",
   "metadata": {},
   "outputs": [],
   "source": [
    "df.drop('Time',inplace=True,axis=1)"
   ]
  },
  {
   "cell_type": "markdown",
   "id": "75dc312d",
   "metadata": {},
   "source": [
    "#### Drop duplicate row"
   ]
  },
  {
   "cell_type": "code",
   "execution_count": 8,
   "id": "664f78f1",
   "metadata": {},
   "outputs": [],
   "source": [
    "df=df[df.duplicated()==False]"
   ]
  },
  {
   "cell_type": "code",
   "execution_count": 9,
   "id": "122ef85c",
   "metadata": {},
   "outputs": [
    {
     "data": {
      "text/plain": [
       "Class\n",
       "0    275190\n",
       "1       473\n",
       "Name: count, dtype: int64"
      ]
     },
     "execution_count": 9,
     "metadata": {},
     "output_type": "execute_result"
    }
   ],
   "source": [
    "df['Class'].value_counts()"
   ]
  },
  {
   "cell_type": "code",
   "execution_count": 10,
   "id": "3b2114e0",
   "metadata": {},
   "outputs": [],
   "source": [
    "X=df.drop('Class',axis=1)\n",
    "y=df.iloc[:,-1]"
   ]
  },
  {
   "cell_type": "markdown",
   "id": "a3115a35",
   "metadata": {},
   "source": [
    "#### Train Test Split"
   ]
  },
  {
   "cell_type": "code",
   "execution_count": 11,
   "id": "f80ea122",
   "metadata": {},
   "outputs": [],
   "source": [
    "from sklearn.model_selection import train_test_split\n",
    "\n",
    "X_train,X_test,y_train,y_test=train_test_split(X,y,random_state=42,test_size=0.2,stratify=y)"
   ]
  },
  {
   "cell_type": "code",
   "execution_count": 12,
   "id": "90b3fce9",
   "metadata": {},
   "outputs": [
    {
     "data": {
      "text/plain": [
       "((220530, 29), (55133, 29), (220530,), (55133,))"
      ]
     },
     "execution_count": 12,
     "metadata": {},
     "output_type": "execute_result"
    }
   ],
   "source": [
    "X_train.shape,X_test.shape,y_train.shape,y_test.shape"
   ]
  },
  {
   "cell_type": "markdown",
   "id": "6a6b046c",
   "metadata": {},
   "source": [
    "#### Model Training: RFC()"
   ]
  },
  {
   "cell_type": "code",
   "execution_count": 13,
   "id": "e3e6847b",
   "metadata": {},
   "outputs": [],
   "source": [
    "from sklearn.ensemble import RandomForestClassifier"
   ]
  },
  {
   "cell_type": "code",
   "execution_count": 14,
   "id": "63abc976",
   "metadata": {},
   "outputs": [
    {
     "data": {
      "text/plain": [
       "0.999419585366296"
      ]
     },
     "execution_count": 14,
     "metadata": {},
     "output_type": "execute_result"
    }
   ],
   "source": [
    "clf=RandomForestClassifier()\n",
    "clf.fit(X_train,y_train)\n",
    "\n",
    "clf.score(X_test,y_test)"
   ]
  },
  {
   "cell_type": "code",
   "execution_count": 15,
   "id": "aab59895",
   "metadata": {},
   "outputs": [
    {
     "name": "stdout",
     "output_type": "stream",
     "text": [
      "              precision    recall  f1-score   support\n",
      "\n",
      "           0       1.00      1.00      1.00     55038\n",
      "           1       0.92      0.73      0.81        95\n",
      "\n",
      "    accuracy                           1.00     55133\n",
      "   macro avg       0.96      0.86      0.91     55133\n",
      "weighted avg       1.00      1.00      1.00     55133\n",
      "\n"
     ]
    }
   ],
   "source": [
    "from sklearn.metrics import classification_report\n",
    "\n",
    "y_pred=clf.predict(X_test)\n",
    "print(classification_report(y_test,y_pred))"
   ]
  },
  {
   "cell_type": "markdown",
   "id": "d1023a73",
   "metadata": {},
   "source": [
    "#### Model Training:LogisticRegression()"
   ]
  },
  {
   "cell_type": "code",
   "execution_count": 16,
   "id": "4c0d569f",
   "metadata": {},
   "outputs": [],
   "source": [
    "def train_test_split_data(X,y):\n",
    "    X_train,X_test,y_train,y_test=train_test_split(X,y,random_state=42,test_size=0.2)\n",
    "    return X_train,X_test,y_train,y_test"
   ]
  },
  {
   "cell_type": "code",
   "execution_count": 17,
   "id": "9fc33182",
   "metadata": {},
   "outputs": [
    {
     "name": "stdout",
     "output_type": "stream",
     "text": [
      "0.9992200678359603\n"
     ]
    }
   ],
   "source": [
    "from sklearn.linear_model import LogisticRegression\n",
    "\n",
    "def model_build(X_train,X_test,y_train,y_test):\n",
    "    clf=LogisticRegression()\n",
    "    clf.fit(X_train,y_train)\n",
    "\n",
    "    return clf,clf.score(X_test,y_test)\n",
    "\n",
    "X_train,X_test,y_train,y_test=train_test_split_data(X,y)\n",
    "clf,score=model_build(X_train,X_test,y_train,y_test)\n",
    "\n",
    "print(score)"
   ]
  },
  {
   "cell_type": "code",
   "execution_count": 18,
   "id": "8781c121",
   "metadata": {},
   "outputs": [
    {
     "name": "stdout",
     "output_type": "stream",
     "text": [
      "              precision    recall  f1-score   support\n",
      "\n",
      "           0       1.00      1.00      1.00     55042\n",
      "           1       0.86      0.63      0.73        91\n",
      "\n",
      "    accuracy                           1.00     55133\n",
      "   macro avg       0.93      0.81      0.86     55133\n",
      "weighted avg       1.00      1.00      1.00     55133\n",
      "\n"
     ]
    }
   ],
   "source": [
    "from sklearn.metrics import classification_report\n",
    "\n",
    "def performance(X_test,y_test,clf):\n",
    "    y_pred=clf.predict(X_test)\n",
    "    print(classification_report(y_test,y_pred))\n",
    "performance(X_test,y_test,clf)"
   ]
  },
  {
   "cell_type": "markdown",
   "id": "cf321642",
   "metadata": {},
   "source": [
    "## Resampling Techniques:"
   ]
  },
  {
   "cell_type": "markdown",
   "id": "d509ee6a",
   "metadata": {},
   "source": [
    "#### Oversampling"
   ]
  },
  {
   "cell_type": "code",
   "execution_count": 19,
   "id": "62dabe8d",
   "metadata": {},
   "outputs": [
    {
     "name": "stdout",
     "output_type": "stream",
     "text": [
      "Before resample\n",
      "Class\n",
      "0    275190\n",
      "1       473\n",
      "Name: count, dtype: int64\n",
      "After resample\n",
      "Class\n",
      "0    275190\n",
      "1    275190\n",
      "Name: count, dtype: int64\n"
     ]
    }
   ],
   "source": [
    "from imblearn.over_sampling import RandomOverSampler\n",
    "\n",
    "ros=RandomOverSampler()\n",
    "\n",
    "X_resample,y_resample=ros.fit_resample(X,y)\n",
    "\n",
    "print(\"Before resample\")\n",
    "print(y.value_counts())\n",
    "print(\"After resample\")\n",
    "print(y_resample.value_counts())"
   ]
  },
  {
   "cell_type": "code",
   "execution_count": 20,
   "id": "f37482d8",
   "metadata": {},
   "outputs": [
    {
     "data": {
      "text/html": [
       "<div>\n",
       "<style scoped>\n",
       "    .dataframe tbody tr th:only-of-type {\n",
       "        vertical-align: middle;\n",
       "    }\n",
       "\n",
       "    .dataframe tbody tr th {\n",
       "        vertical-align: top;\n",
       "    }\n",
       "\n",
       "    .dataframe thead th {\n",
       "        text-align: right;\n",
       "    }\n",
       "</style>\n",
       "<table border=\"1\" class=\"dataframe\">\n",
       "  <thead>\n",
       "    <tr style=\"text-align: right;\">\n",
       "      <th></th>\n",
       "      <th>V1</th>\n",
       "      <th>V2</th>\n",
       "      <th>V3</th>\n",
       "      <th>V4</th>\n",
       "      <th>V5</th>\n",
       "      <th>V6</th>\n",
       "      <th>V7</th>\n",
       "      <th>V8</th>\n",
       "      <th>V9</th>\n",
       "      <th>V10</th>\n",
       "      <th>...</th>\n",
       "      <th>V20</th>\n",
       "      <th>V21</th>\n",
       "      <th>V22</th>\n",
       "      <th>V23</th>\n",
       "      <th>V24</th>\n",
       "      <th>V25</th>\n",
       "      <th>V26</th>\n",
       "      <th>V27</th>\n",
       "      <th>V28</th>\n",
       "      <th>Amount</th>\n",
       "    </tr>\n",
       "  </thead>\n",
       "  <tbody>\n",
       "    <tr>\n",
       "      <th>275663</th>\n",
       "      <td>0.269614</td>\n",
       "      <td>3.549755</td>\n",
       "      <td>-5.810353</td>\n",
       "      <td>5.809370</td>\n",
       "      <td>1.538808</td>\n",
       "      <td>-2.269219</td>\n",
       "      <td>-0.824203</td>\n",
       "      <td>0.351070</td>\n",
       "      <td>-3.759059</td>\n",
       "      <td>-4.592390</td>\n",
       "      <td>...</td>\n",
       "      <td>0.310525</td>\n",
       "      <td>0.371121</td>\n",
       "      <td>-0.322290</td>\n",
       "      <td>-0.549856</td>\n",
       "      <td>-0.520629</td>\n",
       "      <td>1.378210</td>\n",
       "      <td>0.564714</td>\n",
       "      <td>0.553255</td>\n",
       "      <td>0.402400</td>\n",
       "      <td>0.68</td>\n",
       "    </tr>\n",
       "    <tr>\n",
       "      <th>275664</th>\n",
       "      <td>1.140208</td>\n",
       "      <td>1.156431</td>\n",
       "      <td>-1.471578</td>\n",
       "      <td>2.076278</td>\n",
       "      <td>0.774809</td>\n",
       "      <td>-1.002532</td>\n",
       "      <td>0.264948</td>\n",
       "      <td>0.013162</td>\n",
       "      <td>0.248835</td>\n",
       "      <td>-2.100667</td>\n",
       "      <td>...</td>\n",
       "      <td>-0.125097</td>\n",
       "      <td>-0.387895</td>\n",
       "      <td>-0.866812</td>\n",
       "      <td>-0.121583</td>\n",
       "      <td>-0.356109</td>\n",
       "      <td>0.634573</td>\n",
       "      <td>-0.306311</td>\n",
       "      <td>0.094087</td>\n",
       "      <td>0.121065</td>\n",
       "      <td>1.00</td>\n",
       "    </tr>\n",
       "    <tr>\n",
       "      <th>275665</th>\n",
       "      <td>-5.100256</td>\n",
       "      <td>3.633442</td>\n",
       "      <td>-3.843919</td>\n",
       "      <td>0.183208</td>\n",
       "      <td>-1.183997</td>\n",
       "      <td>1.602139</td>\n",
       "      <td>-3.005953</td>\n",
       "      <td>-8.645038</td>\n",
       "      <td>1.285458</td>\n",
       "      <td>-3.717481</td>\n",
       "      <td>...</td>\n",
       "      <td>-2.806302</td>\n",
       "      <td>8.280439</td>\n",
       "      <td>-2.797150</td>\n",
       "      <td>1.090707</td>\n",
       "      <td>-0.159260</td>\n",
       "      <td>0.532156</td>\n",
       "      <td>-0.497126</td>\n",
       "      <td>0.943622</td>\n",
       "      <td>0.553581</td>\n",
       "      <td>261.22</td>\n",
       "    </tr>\n",
       "    <tr>\n",
       "      <th>275666</th>\n",
       "      <td>-2.303350</td>\n",
       "      <td>1.759247</td>\n",
       "      <td>-0.359745</td>\n",
       "      <td>2.330243</td>\n",
       "      <td>-0.821628</td>\n",
       "      <td>-0.075788</td>\n",
       "      <td>0.562320</td>\n",
       "      <td>-0.399147</td>\n",
       "      <td>-0.238253</td>\n",
       "      <td>-1.525412</td>\n",
       "      <td>...</td>\n",
       "      <td>-0.430022</td>\n",
       "      <td>-0.294166</td>\n",
       "      <td>-0.932391</td>\n",
       "      <td>0.172726</td>\n",
       "      <td>-0.087330</td>\n",
       "      <td>-0.156114</td>\n",
       "      <td>-0.542628</td>\n",
       "      <td>0.039566</td>\n",
       "      <td>-0.153029</td>\n",
       "      <td>239.93</td>\n",
       "    </tr>\n",
       "    <tr>\n",
       "      <th>275667</th>\n",
       "      <td>0.523820</td>\n",
       "      <td>1.531708</td>\n",
       "      <td>-4.176390</td>\n",
       "      <td>3.584615</td>\n",
       "      <td>-1.023954</td>\n",
       "      <td>-0.502471</td>\n",
       "      <td>-1.891966</td>\n",
       "      <td>0.878417</td>\n",
       "      <td>-1.541942</td>\n",
       "      <td>-2.649406</td>\n",
       "      <td>...</td>\n",
       "      <td>0.621804</td>\n",
       "      <td>0.851859</td>\n",
       "      <td>1.176927</td>\n",
       "      <td>0.453553</td>\n",
       "      <td>0.485211</td>\n",
       "      <td>-0.500687</td>\n",
       "      <td>-0.108284</td>\n",
       "      <td>0.269477</td>\n",
       "      <td>-0.063245</td>\n",
       "      <td>130.21</td>\n",
       "    </tr>\n",
       "    <tr>\n",
       "      <th>...</th>\n",
       "      <td>...</td>\n",
       "      <td>...</td>\n",
       "      <td>...</td>\n",
       "      <td>...</td>\n",
       "      <td>...</td>\n",
       "      <td>...</td>\n",
       "      <td>...</td>\n",
       "      <td>...</td>\n",
       "      <td>...</td>\n",
       "      <td>...</td>\n",
       "      <td>...</td>\n",
       "      <td>...</td>\n",
       "      <td>...</td>\n",
       "      <td>...</td>\n",
       "      <td>...</td>\n",
       "      <td>...</td>\n",
       "      <td>...</td>\n",
       "      <td>...</td>\n",
       "      <td>...</td>\n",
       "      <td>...</td>\n",
       "      <td>...</td>\n",
       "    </tr>\n",
       "    <tr>\n",
       "      <th>550375</th>\n",
       "      <td>-5.766879</td>\n",
       "      <td>-8.402154</td>\n",
       "      <td>0.056543</td>\n",
       "      <td>6.950983</td>\n",
       "      <td>9.880564</td>\n",
       "      <td>-5.773192</td>\n",
       "      <td>-5.748879</td>\n",
       "      <td>0.721743</td>\n",
       "      <td>-1.076274</td>\n",
       "      <td>2.688670</td>\n",
       "      <td>...</td>\n",
       "      <td>2.493224</td>\n",
       "      <td>0.880395</td>\n",
       "      <td>-0.130436</td>\n",
       "      <td>2.241471</td>\n",
       "      <td>0.665346</td>\n",
       "      <td>-1.890041</td>\n",
       "      <td>-0.120803</td>\n",
       "      <td>0.073269</td>\n",
       "      <td>0.583799</td>\n",
       "      <td>0.00</td>\n",
       "    </tr>\n",
       "    <tr>\n",
       "      <th>550376</th>\n",
       "      <td>-1.125092</td>\n",
       "      <td>3.682876</td>\n",
       "      <td>-6.556168</td>\n",
       "      <td>4.016731</td>\n",
       "      <td>-0.425571</td>\n",
       "      <td>-2.031210</td>\n",
       "      <td>-2.650137</td>\n",
       "      <td>1.131249</td>\n",
       "      <td>-2.946890</td>\n",
       "      <td>-4.816401</td>\n",
       "      <td>...</td>\n",
       "      <td>0.452241</td>\n",
       "      <td>1.185580</td>\n",
       "      <td>1.348156</td>\n",
       "      <td>-0.053686</td>\n",
       "      <td>0.284122</td>\n",
       "      <td>-1.174469</td>\n",
       "      <td>-0.087832</td>\n",
       "      <td>0.718790</td>\n",
       "      <td>0.676216</td>\n",
       "      <td>0.76</td>\n",
       "    </tr>\n",
       "    <tr>\n",
       "      <th>550377</th>\n",
       "      <td>-1.739334</td>\n",
       "      <td>-1.304655</td>\n",
       "      <td>0.314103</td>\n",
       "      <td>0.053740</td>\n",
       "      <td>-0.058696</td>\n",
       "      <td>0.071260</td>\n",
       "      <td>0.694862</td>\n",
       "      <td>-0.313270</td>\n",
       "      <td>-0.649377</td>\n",
       "      <td>0.517568</td>\n",
       "      <td>...</td>\n",
       "      <td>-1.463994</td>\n",
       "      <td>-0.665172</td>\n",
       "      <td>-0.632078</td>\n",
       "      <td>-0.421176</td>\n",
       "      <td>-0.400774</td>\n",
       "      <td>-0.001640</td>\n",
       "      <td>-0.495162</td>\n",
       "      <td>0.031633</td>\n",
       "      <td>0.066280</td>\n",
       "      <td>320.00</td>\n",
       "    </tr>\n",
       "    <tr>\n",
       "      <th>550378</th>\n",
       "      <td>-2.830984</td>\n",
       "      <td>0.885657</td>\n",
       "      <td>1.199930</td>\n",
       "      <td>2.861292</td>\n",
       "      <td>0.321669</td>\n",
       "      <td>0.289966</td>\n",
       "      <td>1.767760</td>\n",
       "      <td>-2.451050</td>\n",
       "      <td>0.069736</td>\n",
       "      <td>3.245086</td>\n",
       "      <td>...</td>\n",
       "      <td>-1.016923</td>\n",
       "      <td>0.546589</td>\n",
       "      <td>0.334971</td>\n",
       "      <td>0.172106</td>\n",
       "      <td>0.623590</td>\n",
       "      <td>-0.527114</td>\n",
       "      <td>-0.079215</td>\n",
       "      <td>-2.532445</td>\n",
       "      <td>0.311177</td>\n",
       "      <td>104.81</td>\n",
       "    </tr>\n",
       "    <tr>\n",
       "      <th>550379</th>\n",
       "      <td>-1.169203</td>\n",
       "      <td>1.863414</td>\n",
       "      <td>-2.515135</td>\n",
       "      <td>5.463681</td>\n",
       "      <td>-0.297971</td>\n",
       "      <td>1.364918</td>\n",
       "      <td>0.759219</td>\n",
       "      <td>-0.118861</td>\n",
       "      <td>-2.293921</td>\n",
       "      <td>-0.423784</td>\n",
       "      <td>...</td>\n",
       "      <td>-0.299374</td>\n",
       "      <td>-0.393090</td>\n",
       "      <td>-0.708692</td>\n",
       "      <td>0.471309</td>\n",
       "      <td>-0.078616</td>\n",
       "      <td>-0.544655</td>\n",
       "      <td>0.014777</td>\n",
       "      <td>-0.240930</td>\n",
       "      <td>-0.781055</td>\n",
       "      <td>324.59</td>\n",
       "    </tr>\n",
       "  </tbody>\n",
       "</table>\n",
       "<p>274717 rows × 29 columns</p>\n",
       "</div>"
      ],
      "text/plain": [
       "              V1        V2        V3        V4        V5        V6        V7   \n",
       "275663  0.269614  3.549755 -5.810353  5.809370  1.538808 -2.269219 -0.824203  \\\n",
       "275664  1.140208  1.156431 -1.471578  2.076278  0.774809 -1.002532  0.264948   \n",
       "275665 -5.100256  3.633442 -3.843919  0.183208 -1.183997  1.602139 -3.005953   \n",
       "275666 -2.303350  1.759247 -0.359745  2.330243 -0.821628 -0.075788  0.562320   \n",
       "275667  0.523820  1.531708 -4.176390  3.584615 -1.023954 -0.502471 -1.891966   \n",
       "...          ...       ...       ...       ...       ...       ...       ...   \n",
       "550375 -5.766879 -8.402154  0.056543  6.950983  9.880564 -5.773192 -5.748879   \n",
       "550376 -1.125092  3.682876 -6.556168  4.016731 -0.425571 -2.031210 -2.650137   \n",
       "550377 -1.739334 -1.304655  0.314103  0.053740 -0.058696  0.071260  0.694862   \n",
       "550378 -2.830984  0.885657  1.199930  2.861292  0.321669  0.289966  1.767760   \n",
       "550379 -1.169203  1.863414 -2.515135  5.463681 -0.297971  1.364918  0.759219   \n",
       "\n",
       "              V8        V9       V10  ...       V20       V21       V22   \n",
       "275663  0.351070 -3.759059 -4.592390  ...  0.310525  0.371121 -0.322290  \\\n",
       "275664  0.013162  0.248835 -2.100667  ... -0.125097 -0.387895 -0.866812   \n",
       "275665 -8.645038  1.285458 -3.717481  ... -2.806302  8.280439 -2.797150   \n",
       "275666 -0.399147 -0.238253 -1.525412  ... -0.430022 -0.294166 -0.932391   \n",
       "275667  0.878417 -1.541942 -2.649406  ...  0.621804  0.851859  1.176927   \n",
       "...          ...       ...       ...  ...       ...       ...       ...   \n",
       "550375  0.721743 -1.076274  2.688670  ...  2.493224  0.880395 -0.130436   \n",
       "550376  1.131249 -2.946890 -4.816401  ...  0.452241  1.185580  1.348156   \n",
       "550377 -0.313270 -0.649377  0.517568  ... -1.463994 -0.665172 -0.632078   \n",
       "550378 -2.451050  0.069736  3.245086  ... -1.016923  0.546589  0.334971   \n",
       "550379 -0.118861 -2.293921 -0.423784  ... -0.299374 -0.393090 -0.708692   \n",
       "\n",
       "             V23       V24       V25       V26       V27       V28  Amount  \n",
       "275663 -0.549856 -0.520629  1.378210  0.564714  0.553255  0.402400    0.68  \n",
       "275664 -0.121583 -0.356109  0.634573 -0.306311  0.094087  0.121065    1.00  \n",
       "275665  1.090707 -0.159260  0.532156 -0.497126  0.943622  0.553581  261.22  \n",
       "275666  0.172726 -0.087330 -0.156114 -0.542628  0.039566 -0.153029  239.93  \n",
       "275667  0.453553  0.485211 -0.500687 -0.108284  0.269477 -0.063245  130.21  \n",
       "...          ...       ...       ...       ...       ...       ...     ...  \n",
       "550375  2.241471  0.665346 -1.890041 -0.120803  0.073269  0.583799    0.00  \n",
       "550376 -0.053686  0.284122 -1.174469 -0.087832  0.718790  0.676216    0.76  \n",
       "550377 -0.421176 -0.400774 -0.001640 -0.495162  0.031633  0.066280  320.00  \n",
       "550378  0.172106  0.623590 -0.527114 -0.079215 -2.532445  0.311177  104.81  \n",
       "550379  0.471309 -0.078616 -0.544655  0.014777 -0.240930 -0.781055  324.59  \n",
       "\n",
       "[274717 rows x 29 columns]"
      ]
     },
     "execution_count": 20,
     "metadata": {},
     "output_type": "execute_result"
    }
   ],
   "source": [
    "X_resample[X_resample.duplicated()]"
   ]
  },
  {
   "cell_type": "code",
   "execution_count": 21,
   "id": "c9acdba9",
   "metadata": {},
   "outputs": [
    {
     "name": "stdout",
     "output_type": "stream",
     "text": [
      "0.9458646753152368\n"
     ]
    }
   ],
   "source": [
    "X_train,X_test,y_train,y_test=train_test_split_data(X_resample,y_resample)\n",
    "clf,score=model_build(X_train,X_test,y_train,y_test)\n",
    "print(score)"
   ]
  },
  {
   "cell_type": "code",
   "execution_count": 22,
   "id": "afa17475",
   "metadata": {},
   "outputs": [
    {
     "name": "stdout",
     "output_type": "stream",
     "text": [
      "              precision    recall  f1-score   support\n",
      "\n",
      "           0       0.92      0.98      0.95     55073\n",
      "           1       0.97      0.92      0.94     55003\n",
      "\n",
      "    accuracy                           0.95    110076\n",
      "   macro avg       0.95      0.95      0.95    110076\n",
      "weighted avg       0.95      0.95      0.95    110076\n",
      "\n"
     ]
    }
   ],
   "source": [
    "performance(X_test,y_test,clf)"
   ]
  },
  {
   "cell_type": "markdown",
   "id": "8390fb7a",
   "metadata": {},
   "source": [
    "#### SMOTE"
   ]
  },
  {
   "cell_type": "code",
   "execution_count": 23,
   "id": "4465b526",
   "metadata": {},
   "outputs": [
    {
     "name": "stdout",
     "output_type": "stream",
     "text": [
      "Before resample\n",
      "Class\n",
      "0    275190\n",
      "1       473\n",
      "Name: count, dtype: int64\n",
      "After resample\n",
      "Class\n",
      "0    275190\n",
      "1    275190\n",
      "Name: count, dtype: int64\n"
     ]
    }
   ],
   "source": [
    "from imblearn.over_sampling import SMOTE\n",
    "\n",
    "smote=SMOTE()\n",
    "\n",
    "X_resample,y_resample=smote.fit_resample(X,y)\n",
    "\n",
    "print(\"Before resample\")\n",
    "print(y.value_counts())\n",
    "print(\"After resample\")\n",
    "print(y_resample.value_counts())"
   ]
  },
  {
   "cell_type": "code",
   "execution_count": 24,
   "id": "f8d4a736",
   "metadata": {},
   "outputs": [
    {
     "name": "stdout",
     "output_type": "stream",
     "text": [
      "0.9571568734329009\n"
     ]
    }
   ],
   "source": [
    "X_train,X_test,y_train,y_test=train_test_split_data(X_resample,y_resample)\n",
    "clf,score=model_build(X_train,X_test,y_train,y_test)\n",
    "print(score)"
   ]
  },
  {
   "cell_type": "code",
   "execution_count": 25,
   "id": "08899c84",
   "metadata": {},
   "outputs": [
    {
     "name": "stdout",
     "output_type": "stream",
     "text": [
      "              precision    recall  f1-score   support\n",
      "\n",
      "           0       0.93      0.98      0.96     55073\n",
      "           1       0.98      0.93      0.96     55003\n",
      "\n",
      "    accuracy                           0.96    110076\n",
      "   macro avg       0.96      0.96      0.96    110076\n",
      "weighted avg       0.96      0.96      0.96    110076\n",
      "\n"
     ]
    }
   ],
   "source": [
    "performance(X_test,y_test,clf)"
   ]
  }
 ],
 "metadata": {
  "kernelspec": {
   "display_name": "Python 3 (ipykernel)",
   "language": "python",
   "name": "python3"
  },
  "language_info": {
   "codemirror_mode": {
    "name": "ipython",
    "version": 3
   },
   "file_extension": ".py",
   "mimetype": "text/x-python",
   "name": "python",
   "nbconvert_exporter": "python",
   "pygments_lexer": "ipython3",
   "version": "3.11.3"
  }
 },
 "nbformat": 4,
 "nbformat_minor": 5
}
